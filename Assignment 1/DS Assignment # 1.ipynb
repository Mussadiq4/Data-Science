{
 "cells": [
  {
   "cell_type": "code",
   "execution_count": 1,
   "id": "3b1972ce",
   "metadata": {},
   "outputs": [
    {
     "name": "stdout",
     "output_type": "stream",
     "text": [
      "Twinkle, twinkle, little star,\n",
      "\tHow I wonder what you are!\n",
      "\t\tUp above the world so high,\n",
      "\t\tLike a diamond in the sky.\n",
      "Twinkle, twinkle, little star,\n",
      "\tHow I wonder what you are\n"
     ]
    }
   ],
   "source": [
    "#1. Write a Python program to print the following string in a specific format.\n",
    "\n",
    "print(\"Twinkle, twinkle, little star,\\n\\tHow I wonder what you are!\\n\\t\\tUp above the world so high,\\n\\t\\tLike a diamond in the sky.\\nTwinkle, twinkle, little star,\\n\\tHow I wonder what you are\");"
   ]
  },
  {
   "cell_type": "code",
   "execution_count": 2,
   "id": "713605b3",
   "metadata": {},
   "outputs": [
    {
     "name": "stdout",
     "output_type": "stream",
     "text": [
      "3.8.8 (default, Apr 13 2021, 15:08:03) [MSC v.1916 64 bit (AMD64)]\n"
     ]
    }
   ],
   "source": [
    "#2. Write a Python program to get the Python version you are using.\n",
    "\n",
    "import sys\n",
    "print(sys.version);"
   ]
  },
  {
   "cell_type": "code",
   "execution_count": 3,
   "id": "e3ed57f6",
   "metadata": {},
   "outputs": [
    {
     "name": "stdout",
     "output_type": "stream",
     "text": [
      "Current date and time : 2021-12-31 23:48:13.859353\n"
     ]
    }
   ],
   "source": [
    "#3. Write a Python program to display the current date and time.\n",
    "\n",
    "from datetime import datetime\n",
    "\n",
    "print(\"Current date and time :\" , datetime.now());"
   ]
  },
  {
   "cell_type": "code",
   "execution_count": 4,
   "id": "68afb905",
   "metadata": {},
   "outputs": [
    {
     "name": "stdout",
     "output_type": "stream",
     "text": [
      "Enter the radius of a circle 5\n",
      "Area of circle =  78.55\n"
     ]
    }
   ],
   "source": [
    "#4. Write a Python program which accepts the radius of a circle from the user and compute the area.\n",
    "\n",
    "radius = float(input(\"Enter the radius of a circle \"));\n",
    "area = 3.142 * radius * radius;\n",
    "\n",
    "print(\"Area of circle = \" , area);"
   ]
  },
  {
   "cell_type": "code",
   "execution_count": 5,
   "id": "0a5fbb31",
   "metadata": {},
   "outputs": [
    {
     "name": "stdout",
     "output_type": "stream",
     "text": [
      "Enter your first name Mussadiq\n",
      "Enter your last name Nazeer\n",
      "Nazeer Mussadiq\n"
     ]
    }
   ],
   "source": [
    "#5. Write a Python program which accepts the user's first and last name and print them in reverse order with a space between them.\n",
    "\n",
    "f_name = input(\"Enter your first name \");\n",
    "l_name = input(\"Enter your last name \");\n",
    "\n",
    "print(l_name + \" \" + f_name);"
   ]
  },
  {
   "cell_type": "code",
   "execution_count": 6,
   "id": "c594f62d",
   "metadata": {},
   "outputs": [
    {
     "name": "stdout",
     "output_type": "stream",
     "text": [
      "Enter first number 4\n",
      "Enter second number 7\n",
      "Sum of the given numbers =  11.0\n"
     ]
    }
   ],
   "source": [
    "#6. Write a python program which takes two inputs from user and print them addition.\n",
    "\n",
    "a = float(input(\"Enter first number \"));\n",
    "b = float(input(\"Enter second number \"));\n",
    "\n",
    "add = a+b;\n",
    "\n",
    "print(\"Sum of the given numbers = \" , add);"
   ]
  },
  {
   "cell_type": "code",
   "execution_count": null,
   "id": "bee5afcf",
   "metadata": {},
   "outputs": [],
   "source": []
  }
 ],
 "metadata": {
  "kernelspec": {
   "display_name": "Python 3",
   "language": "python",
   "name": "python3"
  },
  "language_info": {
   "codemirror_mode": {
    "name": "ipython",
    "version": 3
   },
   "file_extension": ".py",
   "mimetype": "text/x-python",
   "name": "python",
   "nbconvert_exporter": "python",
   "pygments_lexer": "ipython3",
   "version": "3.8.8"
  }
 },
 "nbformat": 4,
 "nbformat_minor": 5
}
